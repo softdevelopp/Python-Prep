{
 "cells": [
  {
   "attachments": {},
   "cell_type": "markdown",
   "metadata": {},
   "source": [
    "## Flujos de Control"
   ]
  },
  {
   "attachments": {},
   "cell_type": "markdown",
   "metadata": {},
   "source": [
    "1) Crear una variable que contenga un elemento del conjunto de números enteros y luego imprimir por pantalla si es mayor o menor a cero"
   ]
  },
  {
   "cell_type": "code",
   "execution_count": 6,
   "metadata": {},
   "outputs": [
    {
     "name": "stdout",
     "output_type": "stream",
     "text": [
      "2\n"
     ]
    }
   ],
   "source": [
    "numero = 2\n",
    "if numero !=0:\n",
    "    print (numero)"
   ]
  },
  {
   "attachments": {},
   "cell_type": "markdown",
   "metadata": {},
   "source": [
    "2) Crear dos variables y un condicional que informe si son del mismo tipo de dato"
   ]
  },
  {
   "cell_type": "code",
   "execution_count": 8,
   "metadata": {},
   "outputs": [
    {
     "name": "stdout",
     "output_type": "stream",
     "text": [
      "la variables son del mismo tipo\n"
     ]
    }
   ],
   "source": [
    "dato1=30\n",
    "dato2=50\n",
    "\n",
    "if(type(dato1) == type(dato2)):\n",
    "    print (\"la variables son del mismo tipo\")\n",
    "else:\n",
    "    print(\"los tipos de datos son diferentes\")\n"
   ]
  },
  {
   "attachments": {},
   "cell_type": "markdown",
   "metadata": {},
   "source": [
    "3) Para los valores enteros del 1 al 20, imprimir por pantalla si es par o impar"
   ]
  },
  {
   "cell_type": "code",
   "execution_count": 12,
   "metadata": {},
   "outputs": [
    {
     "name": "stdout",
     "output_type": "stream",
     "text": [
      "el numero1 es impar\n",
      "el numero2 es par\n",
      "el numero3 es impar\n",
      "el numero4 es par\n",
      "el numero5 es impar\n",
      "el numero6 es par\n",
      "el numero7 es impar\n",
      "el numero8 es par\n",
      "el numero9 es impar\n",
      "el numero10 es par\n",
      "el numero11 es impar\n",
      "el numero12 es par\n",
      "el numero13 es impar\n",
      "el numero14 es par\n",
      "el numero15 es impar\n",
      "el numero16 es par\n",
      "el numero17 es impar\n",
      "el numero18 es par\n",
      "el numero19 es impar\n",
      "el numero20 es par\n"
     ]
    }
   ],
   "source": [
    "for n in range(1,21):\n",
    "    if(n%2==0):\n",
    "        print(\"el numero\"+str(n)+\" \" +\"es par\")\n",
    "    else:\n",
    "        print(\"el numero\"+str(n)+\" \"+\"es impar\")"
   ]
  },
  {
   "attachments": {},
   "cell_type": "markdown",
   "metadata": {},
   "source": [
    "4) En un ciclo for mostrar para los valores entre 0 y 5 el resultado de elevarlo a la potencia igual a 3"
   ]
  },
  {
   "cell_type": "code",
   "execution_count": 19,
   "metadata": {},
   "outputs": [
    {
     "name": "stdout",
     "output_type": "stream",
     "text": [
      "la potencia de 0^3:0\n",
      "la potencia de 1^3:1\n",
      "la potencia de 2^3:8\n",
      "la potencia de 3^3:27\n",
      "la potencia de 4^3:64\n",
      "la potencia de 5^3:125\n"
     ]
    }
   ],
   "source": [
    "for n in range(0,6):\n",
    "    print(\"la potencia de\" +\" \"+str(n)+\"^3\" +\":\"+ str(n**3))"
   ]
  },
  {
   "attachments": {},
   "cell_type": "markdown",
   "metadata": {},
   "source": [
    "5) Crear una variable que contenga un número entero y realizar un ciclo for la misma cantidad de ciclos"
   ]
  },
  {
   "cell_type": "code",
   "execution_count": 13,
   "metadata": {},
   "outputs": [
    {
     "name": "stdout",
     "output_type": "stream",
     "text": [
      "el ciclo se repite hasta 5\n",
      "el ciclo se repite hasta 5\n",
      "el ciclo se repite hasta 5\n",
      "el ciclo se repite hasta 5\n",
      "el ciclo se repite hasta 5\n"
     ]
    }
   ],
   "source": [
    "numero = 5\n",
    "for i in range (numero):\n",
    "    print(\"el ciclo se repite hasta \"+str(numero))\n"
   ]
  },
  {
   "attachments": {},
   "cell_type": "markdown",
   "metadata": {},
   "source": [
    "6) Utilizar un ciclo while para realizar el factorial de un número guardado en una variable, sólo si la variable contiene un número entero mayor a 0"
   ]
  },
  {
   "cell_type": "code",
   "execution_count": 23,
   "metadata": {},
   "outputs": [
    {
     "name": "stdout",
     "output_type": "stream",
     "text": [
      "el factorial de 5! es :120\n"
     ]
    }
   ],
   "source": [
    "numeroFactorial=5\n",
    "factorial = numeroFactorial\n",
    "fact=1\n",
    "while(numeroFactorial>0):\n",
    "    fact *=numeroFactorial\n",
    "    numeroFactorial -=1\n",
    "    \n",
    "print(f'el factorial de {factorial}! es :{fact}')"
   ]
  },
  {
   "attachments": {},
   "cell_type": "markdown",
   "metadata": {},
   "source": [
    "7) Crear un ciclo for dentro de un ciclo while"
   ]
  },
  {
   "cell_type": "code",
   "execution_count": 26,
   "metadata": {},
   "outputs": [
    {
     "name": "stdout",
     "output_type": "stream",
     "text": [
      "ciclo desde un for\n",
      "ciclo desde un for\n",
      "ciclo desde un for\n",
      "ciclo desde un for\n",
      "ciclo desde un for\n",
      "impresion desde un while\n",
      "ciclo desde un for\n",
      "ciclo desde un for\n",
      "ciclo desde un for\n",
      "ciclo desde un for\n",
      "ciclo desde un for\n",
      "impresion desde un while\n",
      "ciclo desde un for\n",
      "ciclo desde un for\n",
      "ciclo desde un for\n",
      "ciclo desde un for\n",
      "ciclo desde un for\n",
      "impresion desde un while\n",
      "ciclo desde un for\n",
      "ciclo desde un for\n",
      "ciclo desde un for\n",
      "ciclo desde un for\n",
      "ciclo desde un for\n",
      "impresion desde un while\n",
      "ciclo desde un for\n",
      "ciclo desde un for\n",
      "ciclo desde un for\n",
      "ciclo desde un for\n",
      "ciclo desde un for\n",
      "impresion desde un while\n"
     ]
    }
   ],
   "source": [
    "n=0\n",
    "while(n<5):\n",
    "    for i in range(5):\n",
    "        print(\"ciclo desde un for\")\n",
    "    \n",
    "    print(\"impresion desde un while\")\n",
    "    n+=1"
   ]
  },
  {
   "attachments": {},
   "cell_type": "markdown",
   "metadata": {},
   "source": [
    "8) Crear un ciclo while dentro de un ciclo for"
   ]
  },
  {
   "cell_type": "code",
   "execution_count": 27,
   "metadata": {},
   "outputs": [
    {
     "name": "stdout",
     "output_type": "stream",
     "text": [
      "desde el while\n",
      "desde el while\n",
      "desde el while\n",
      "desde el while\n",
      "desde el for\n",
      "desde el while\n",
      "desde el while\n",
      "desde el while\n",
      "desde el while\n",
      "desde el for\n",
      "desde el while\n",
      "desde el while\n",
      "desde el while\n",
      "desde el while\n",
      "desde el for\n",
      "desde el while\n",
      "desde el while\n",
      "desde el while\n",
      "desde el while\n",
      "desde el for\n"
     ]
    }
   ],
   "source": [
    "for i in range(4):\n",
    "    n=0\n",
    "    while(n<4):\n",
    "        print(\"desde el while\")\n",
    "        n+=1\n",
    "    print(\"desde el for\")"
   ]
  },
  {
   "attachments": {},
   "cell_type": "markdown",
   "metadata": {},
   "source": [
    "9) Imprimir los números primos existentes entre 0 y 30"
   ]
  },
  {
   "cell_type": "code",
   "execution_count": 1,
   "metadata": {},
   "outputs": [
    {
     "name": "stdout",
     "output_type": "stream",
     "text": [
      "2,3,5,7,11,13,17,19,23,29,"
     ]
    }
   ],
   "source": [
    "def primo(numero):\n",
    "    if numero==0 or numero==1 or numero==4:\n",
    "        return False\n",
    "    for x in range(2, int(numero/2)):\n",
    "        if numero%x ==0:\n",
    "            return False\n",
    "    return True\n",
    "    \n",
    "    \n",
    "for numero in range(30):\n",
    "    if primo(numero):\n",
    "        print(numero,end=',')"
   ]
  },
  {
   "attachments": {},
   "cell_type": "markdown",
   "metadata": {},
   "source": [
    "10) ¿Se puede mejorar el proceso del punto 9? Utilizar las sentencias break y/ó continue para tal fin"
   ]
  },
  {
   "cell_type": "code",
   "execution_count": 1,
   "metadata": {},
   "outputs": [
    {
     "name": "stdout",
     "output_type": "stream",
     "text": [
      "2,3,5,7,11,13,17,19,23,29,"
     ]
    }
   ],
   "source": [
    "def primo(numero):\n",
    "    if numero==0 or numero==1 or numero==4:\n",
    "        return False\n",
    "    for x in range(2, int(numero/2)):\n",
    "        if numero%x ==0:\n",
    "            return False\n",
    "            break\n",
    "    return True\n",
    "    \n",
    "    \n",
    "for numero in range(30):\n",
    "    if primo(numero):\n",
    "        print(numero,end=',')"
   ]
  },
  {
   "attachments": {},
   "cell_type": "markdown",
   "metadata": {},
   "source": [
    "11) En los puntos 9 y 10, se diseño un código que encuentra números primos y además se lo optimizó. ¿Es posible saber en qué medida se optimizó?"
   ]
  },
  {
   "cell_type": "code",
   "execution_count": 28,
   "metadata": {},
   "outputs": [
    {
     "name": "stdout",
     "output_type": "stream",
     "text": [
      "0\n",
      "1\n",
      "2\n",
      "3\n",
      "5\n",
      "7\n",
      "11\n",
      "13\n",
      "17\n",
      "19\n",
      "23\n",
      "29\n",
      "Cantidad de ciclos: 378\n"
     ]
    }
   ],
   "source": [
    "tope_rango=30\n",
    "ciclos_sin_break = 0\n",
    "n = 0\n",
    "primo = True\n",
    "while (n < tope_rango):\n",
    "    for div in range(2, n):\n",
    "        ciclos_sin_break += 1\n",
    "        if (n % div == 0):\n",
    "            primo = False\n",
    "    if (primo):\n",
    "        print(n)\n",
    "    else:\n",
    "        primo = True\n",
    "    n += 1\n",
    "print('Cantidad de ciclos: ' + str(ciclos_sin_break))       \n",
    "             "
   ]
  },
  {
   "attachments": {},
   "cell_type": "markdown",
   "metadata": {},
   "source": [
    "12) Aplicando continue, armar un ciclo while que solo imprima los valores divisibles por 12, dentro del rango de números de 100 a 300"
   ]
  },
  {
   "cell_type": "code",
   "execution_count": 29,
   "metadata": {},
   "outputs": [
    {
     "name": "stdout",
     "output_type": "stream",
     "text": [
      "108 es divisible por 12\n",
      "120 es divisible por 12\n",
      "132 es divisible por 12\n",
      "144 es divisible por 12\n",
      "156 es divisible por 12\n",
      "168 es divisible por 12\n",
      "180 es divisible por 12\n",
      "192 es divisible por 12\n",
      "204 es divisible por 12\n",
      "216 es divisible por 12\n",
      "228 es divisible por 12\n",
      "240 es divisible por 12\n",
      "252 es divisible por 12\n",
      "264 es divisible por 12\n",
      "276 es divisible por 12\n",
      "288 es divisible por 12\n",
      "300 es divisible por 12\n"
     ]
    }
   ],
   "source": [
    "n=99\n",
    "while (n<300):\n",
    "    n +=1\n",
    "    if(n%12 !=0):\n",
    "        continue\n",
    "    else:\n",
    "        print(f'{n} es divisible por 12')"
   ]
  },
  {
   "cell_type": "code",
   "execution_count": 30,
   "metadata": {},
   "outputs": [
    {
     "name": "stdout",
     "output_type": "stream",
     "text": [
      "108 es divisible por 12\n",
      "120 es divisible por 12\n",
      "132 es divisible por 12\n",
      "144 es divisible por 12\n",
      "156 es divisible por 12\n",
      "168 es divisible por 12\n",
      "180 es divisible por 12\n",
      "192 es divisible por 12\n",
      "204 es divisible por 12\n",
      "216 es divisible por 12\n",
      "228 es divisible por 12\n",
      "240 es divisible por 12\n",
      "252 es divisible por 12\n",
      "264 es divisible por 12\n",
      "276 es divisible por 12\n",
      "288 es divisible por 12\n",
      "300 es divisible por 12\n"
     ]
    }
   ],
   "source": [
    "# Inicializamos la variable n en 99\n",
    "n = 99\n",
    "\n",
    "# Comenzamos un bucle while que se ejecutará mientras n sea menor o igual a 300\n",
    "while n <= 300:\n",
    "    # Incrementamos n en 1 para pasar al siguiente número\n",
    "    n += 1\n",
    "    \n",
    "    # Comprobamos si n no es divisible por 12 utilizando el operador de módulo (%)\n",
    "    if n % 12 != 0:\n",
    "        # Si n no es divisible por 12, se ejecuta la instrucción 'continue' para volver al inicio del bucle while\n",
    "        # y saltar a la siguiente iteración sin ejecutar el código que sigue\n",
    "        continue\n",
    "    \n",
    "    # Si se llega a esta línea de código, significa que n es divisible por 12\n",
    "    # por lo que se imprime el mensaje indicando que n es divisible por 12\n",
    "    print(n, 'es divisible por 12')\n"
   ]
  },
  {
   "attachments": {},
   "cell_type": "markdown",
   "metadata": {},
   "source": [
    "13) Utilizar la función **input()** que permite hacer ingresos por teclado, para encontrar números primos y dar la opción al usario de buscar el siguiente"
   ]
  },
  {
   "cell_type": "code",
   "execution_count": 32,
   "metadata": {},
   "outputs": [
    {
     "name": "stdout",
     "output_type": "stream",
     "text": [
      "1\n",
      "¿Desea encontrar el siguiente número primo?\n"
     ]
    }
   ],
   "source": [
    "n = 1\n",
    "sigue = 1\n",
    "primo = True\n",
    "while (sigue == 1):\n",
    "    for div in range(2, n):\n",
    "        if (n % div == 0):\n",
    "            primo = False\n",
    "            break\n",
    "    if (primo):\n",
    "        print(n)\n",
    "        print('¿Desea encontrar el siguiente número primo?')\n",
    "        if (input() != '1'):\n",
    "            print('Se finaliza el proceso')\n",
    "            break\n",
    "    else:\n",
    "        primo = True\n",
    "    n += 1"
   ]
  },
  {
   "attachments": {},
   "cell_type": "markdown",
   "metadata": {},
   "source": [
    "14) Crear un ciclo while que encuentre dentro del rango de 100 a 300 el primer número divisible por 3 y además múltiplo de 6"
   ]
  },
  {
   "cell_type": "code",
   "execution_count": 33,
   "metadata": {},
   "outputs": [
    {
     "name": "stdout",
     "output_type": "stream",
     "text": [
      "El número es:  102\n"
     ]
    }
   ],
   "source": [
    "n = 100\n",
    "while(n<=300):\n",
    "    if (n % 6 == 0):\n",
    "        print('El número es: ', str(n))\n",
    "        break\n",
    "    n += 1"
   ]
  },
  {
   "cell_type": "code",
   "execution_count": null,
   "metadata": {},
   "outputs": [],
   "source": []
  }
 ],
 "metadata": {
  "interpreter": {
   "hash": "c85384e4cb51c8b72350f3a8712cc8351fdc3955e32a27f9b60c6242ab125f01"
  },
  "kernelspec": {
   "display_name": "Python 3 (ipykernel)",
   "language": "python",
   "name": "python3"
  },
  "language_info": {
   "codemirror_mode": {
    "name": "ipython",
    "version": 3
   },
   "file_extension": ".py",
   "mimetype": "text/x-python",
   "name": "python",
   "nbconvert_exporter": "python",
   "pygments_lexer": "ipython3",
   "version": "3.11.0"
  }
 },
 "nbformat": 4,
 "nbformat_minor": 4
}
